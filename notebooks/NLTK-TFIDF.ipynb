{
 "cells": [
  {
   "cell_type": "code",
   "execution_count": 11,
   "metadata": {},
   "outputs": [],
   "source": [
    "import numpy as np\n",
    "import pandas as pd\n",
    "import matplotlib.pyplot as plt\n",
    "\n",
    "import nltk\n",
    "from nltk.corpus import stopwords\n",
    "from nltk.tokenize import word_tokenize\n",
    "import math"
   ]
  },
  {
   "cell_type": "markdown",
   "metadata": {},
   "source": [
    "## First approach: we use NLTK library to tokenize a list of questions to binary vectors"
   ]
  },
  {
   "cell_type": "code",
   "execution_count": 12,
   "metadata": {},
   "outputs": [
    {
     "name": "stderr",
     "output_type": "stream",
     "text": [
      "[nltk_data] Downloading package stopwords to\n",
      "[nltk_data]     /Users/gabedarley/nltk_data...\n",
      "[nltk_data]   Package stopwords is already up-to-date!\n",
      "[nltk_data] Downloading package punkt to\n",
      "[nltk_data]     /Users/gabedarley/nltk_data...\n",
      "[nltk_data]   Package punkt is already up-to-date!\n"
     ]
    },
    {
     "data": {
      "text/plain": [
       "True"
      ]
     },
     "execution_count": 12,
     "metadata": {},
     "output_type": "execute_result"
    }
   ],
   "source": [
    "nltk.download('stopwords')\n",
    "nltk.download('punkt')"
   ]
  },
  {
   "cell_type": "code",
   "execution_count": 13,
   "metadata": {},
   "outputs": [],
   "source": [
    "def read_file(answer, question):\n",
    "    answers, questions = [], []\n",
    "    \n",
    "    with open(answer, 'r') as file:\n",
    "        answers = file.readlines()\n",
    "        \n",
    "    with open(question, 'r') as file:\n",
    "        questions = file.readlines()\n",
    "        \n",
    "    return answers, questions    "
   ]
  },
  {
   "cell_type": "code",
   "execution_count": 14,
   "metadata": {},
   "outputs": [
    {
     "name": "stdout",
     "output_type": "stream",
     "text": [
      "/Users/gabedarley/Desktop/cb/notebooks\n",
      "NLTK-TFIDF.ipynb SQLite.ipynb     answers.txt      questions.txt\n"
     ]
    }
   ],
   "source": [
    "!pwd\n",
    "!ls"
   ]
  },
  {
   "cell_type": "code",
   "execution_count": 15,
   "metadata": {},
   "outputs": [
    {
     "data": {
      "text/plain": [
       "(50, 50)"
      ]
     },
     "execution_count": 15,
     "metadata": {},
     "output_type": "execute_result"
    }
   ],
   "source": [
    "answers, questions = read_file(\"answers.txt\", \"questions.txt\")\n",
    "len(answers), len(questions)"
   ]
  },
  {
   "cell_type": "code",
   "execution_count": 16,
   "metadata": {},
   "outputs": [],
   "source": [
    "sw = stopwords.words(\"english\")\n",
    "\n",
    "def find_similarity(questions, user):\n",
    "    ranks = []    \n",
    "    \n",
    "    # tokenize the user's question\n",
    "    tokenized_user = word_tokenize(user)\n",
    "    user_set = {w for w in tokenized_user if not w in sw}\n",
    "    \n",
    "    for idx, question in enumerate(questions):\n",
    "        l1, l2 = [], []\n",
    "        \n",
    "        # tokenize the DB's question\n",
    "        tokenized_question = word_tokenize(question)\n",
    "        question_set = {w for w in tokenized_question if not w in sw}\n",
    "        \n",
    "        rvector = question_set.union(user_set)\n",
    "        for w in rvector:\n",
    "            if w in user_set: l1.append(1)\n",
    "            else: l1.append(0)\n",
    "                \n",
    "            if w in question_set: l2.append(1)\n",
    "            else: l2.append(0)\n",
    "                \n",
    "        c = 0\n",
    "        # cosine formular\n",
    "        for i in range(len(rvector)):\n",
    "            c += l1[i]*l2[i]\n",
    "        cosine = c / ((sum(l1)**0.5*(sum(l2))**0.5))\n",
    "        \n",
    "        # for each question, find its similarity to user's question\n",
    "        ranks.append((idx, cosine))\n",
    "        \n",
    "    # sort the ranks\n",
    "    ranks.sort(key=lambda y: y[1], reverse=True)\n",
    "    return ranks\n",
    "\n",
    "def answer(ranks, answers):\n",
    "    f_idx, s_idx = ranks[0][0], ranks[1][0]\n",
    "    \n",
    "    print(\"The first answer is\", answers[f_idx])\n",
    "    print(\"The second answer is\", answers[s_idx])"
   ]
  },
  {
   "cell_type": "code",
   "execution_count": 17,
   "metadata": {},
   "outputs": [
    {
     "name": "stdout",
     "output_type": "stream",
     "text": [
      "The first answer is In making changes to a student's IEP after the annual IEP Team meeting for a school year, the parent of a student with a disability and the public agency may agree not to convene an IEP Team meeting for the purposes of making those changes, and instead may amend or modify the student's current IEP.\n",
      "\n",
      "The second answer is The LDE shall ensure the following. 1.\tEach public agency shall take steps, including the provision of supplementary aids and services determined appropriate and necessary by the student's IEP Team, to provide nonacademic and extracurricular services and activities in the manner necessary to afford students with disabilities an equal opportunity for participation in those services and activities. 2.\tNonacademic and extracurricular services and activities may include counseling services, athletics, transportation, health services, recreational activities, special interest groups or clubs sponsored by the public agency, referrals to agencies that provide assistance to individuals with disabilities, and employment of students, including both employment by the public agency and assistance in making outside employment available.\n",
      "\n"
     ]
    }
   ],
   "source": [
    "ranks = find_similarity(questions, \"Can you tell me what an IEP is\")\n",
    "answer(ranks, answers)"
   ]
  },
  {
   "cell_type": "markdown",
   "metadata": {},
   "source": [
    "## Second approach: instead of using NLTK, we use TFIDF from scikit-learn library"
   ]
  },
  {
   "cell_type": "code",
   "execution_count": 18,
   "metadata": {},
   "outputs": [],
   "source": [
    "# TFIDF stands for frequency-inverse document frequency\n",
    "# try to find the most frequent and significant words\n",
    "\n",
    "# tf-idf = term_frequency * inverse_document_frequency\n",
    "# inverse_document_frequency = log(total number of documents / number of documents with term) + 1\n",
    "# Ex: a word that appears a lot in 1-2 pages is significant"
   ]
  },
  {
   "cell_type": "code",
   "execution_count": 19,
   "metadata": {},
   "outputs": [],
   "source": [
    "from sklearn.feature_extraction.text import TfidfVectorizer\n",
    "from sklearn.feature_extraction.text import CountVectorizer\n",
    "from scipy.spatial.distance import cosine\n",
    "from pathlib import Path\n",
    "import glob"
   ]
  },
  {
   "cell_type": "code",
   "execution_count": 93,
   "metadata": {},
   "outputs": [
    {
     "name": "stdout",
     "output_type": "stream",
     "text": [
      "['What is an LEA?\\n', 'What is IDEA?\\n', 'What is FAPE?\\n', 'What is an IEP?\\n', 'What is LRE?\\n', 'What is PBIS?\\n', 'What is a FBA?\\n', 'What is a BIP?\\n', 'What is a MDR?\\n', 'What is Child Find?\\n', 'Should I have my child evaluated for special education?\\n', 'What is RTI?\\n', 'What is the School Building Level Committee?\\n', 'Can the school district refuse to evaluate my child until he or she goes through the RTI process?\\n', 'Can the school use my private evaluation to expedite the evaluation process?\\n', 'Is the public school system required to evaluate my child that attends a private school for free?\\n', 'What does 1508 evaluation mean?\\n', 'What are the exceptionalities?\\n', 'How long does it take to get my child evaluated?\\n', 'Can the school ask for evaluation extensions?\\n', 'What happens if the parent disagree with the evaluation?\\n', 'If my child is eligible for special education services, how long will it take to start the services?\\n', 'Will I receive a notice about the IEP meeting?\\n', 'Does the school have to tell me who will be attending the meeting?\\n', 'Who are the IEP team members?\\n', 'Are parents equal IEP team members?\\n', 'Who is considered a parent on the IEP team?\\n', 'What is the parent of the child has a disability or doesn’t speak English?\\n', 'Is the student required to attend the IEP Meeting?\\n', 'Can IEP members miss the IEP meeting, come in late, or leave early?\\n', 'Is there a time limit on IEP meetings?\\n', 'Who can have access to my child’s IEP?\\n', 'Are there different types of IEPs?\\n', 'Can an IEP be amended without a meeting?\\n', 'What does placement mean?\\n', 'How is placement decided?\\n', 'Will my child go to their regular neighborhood school?\\n', 'Do parents need to consent to special education services?\\n', 'What happens if I disagree with the services or placement in the IEP?\\n', 'Can my child attend an inclusion class?\\n', 'Is there an age limit on the different ages in the same special education class?\\n', 'How often do we have an IEP meeting?\\n', 'Can the school purchase my child an Assistive Technology Device?\\n', 'How does my child qualify for Extended School Year Services (ESY)?\\n', 'Can my Child’s IEP include extracurricular services?\\n', 'What is the age a child can receive special education services?\\n', 'Does my child have to fail in order to qualify for special education services?\\n', 'Will students aging out of Early Steps automatically qualify for special education services?\\n', 'Why does my child need to be evaluated by the school district if he or she already has an autism diagnosis from the doctor?\\n', 'Is Special Education only for children with intellectual delays?\\n']\n",
      "['LEA is the local education agency, also referred to as the local school district.\\n', 'IDEA is the Individuals with Disabilities Education Act, the Federal special education law that guarantees FAPE.\\n', 'FAPE is Free Appropriate Public Education, the provision in IDEA to ensure states provide services to eligible students with disabilities. The FREE in FAPE means school services must be provided at public expense, under public supervision and direction, without charge.  Uniformly assessed fees are permissible. A fee for a service may be charged only if this is a fee for all students in the school. The term \"at no cost\" does not preclude incidental fees that are normally charged to students without disabilities or their parents as part of the regular education program. Appropriate doesn’t mean the best.  It means, All students, including those performing at grade level and those unable to perform at grade level, the school must offer an IEP that is “reasonably calculated to enable a child to make progress in light of the child’s circumstances.”\\n', 'IEP is an individualized Education Program that provides a written plan designed to meet the unique needs of the child with an exceptionality.\\n', 'LRE is least restrictive environment.  LRE is the foundation principle in IDEA that children with disabilities should be educated with their nondisabled peers, to the greatest extent possible.\\n', 'Positive Behavioral Interventions and Supports is an evidence-based three-tier framework for improving and integrating all of the data, systems, and practicing affecting student outcomes every day.  It’s a way to support everyone – especially students with disabilities – to create the kinds of schools where all students are successful.\\n', 'A functional Behavioral Assessment is used to determine the function of the behavior and the factors that maintain it.  It helps teachers to understand the reason(s) (i.e., the function or functions) for a student’s behavior and then to use this information to design an intervention that will help the student learn a new, more acceptable method of getting what he or she wants. In many cases, challenging behaviors are an inappropriate way for a student to either obtain something desired (e.g., attention, a tangible item) or avoid something not preferred (e.g., a task or activity).\\n', 'A BIP is a Behavior Intervention Plan.  Many students with disabilities – particularly those with emotional or behavioral disorders, have IEP’s that contain a BIP, which provide individualized procedures to prevent undesirable behaviors or to intervene when those behaviors occur.\\n', 'A Manifestation Determination Review is used if a student with a disability violates the school’s code of conduct, the student’s IEP team must meet to determine whether the behavior was the result of either the student’s disability, or poor implementation of the student’s IEP.\\n', 'The LDE shall ensure that\\tall students with disabilities residing in the state, including students with disabilities who are homeless children or who are wards of the state, and students with disabilities attending private schools, regardless of the severity of their disability, and who are in need of special education and related services, are identified, located, and evaluated; and a practical method is developed and implemented to determine which students are currently receiving needed special education and related services.\\n', 'If your child is between 3 and 21 and having academic, social, or behavioral problems, you may consider getting your child evaluated. In Louisiana, this is called a 1508 evaluation.  Many struggling learners first go through the School Building Level Committee (SBLC) and receive interventions (RTI) before they are referred for an evaluation.\\n', 'The Response to Intervention (RTI) process is a three-tiered approach to providing services and interventions to struggling learners and/or students with challenging behaviors at increasing levels of intensity. Essential components of the process include three tiers of instruction and intervention, use of standard protocols and/or problem-solving methods, and an integrated data collection/assessment system to inform decisions at each tier of instruction/intervention. The process incorporates increasing intensities of instruction and/or intervention that are provided to students in direct proportion to their individual needs. Embedded in each tier is a set of unique support structures or activities that help teachers implement, with fidelity, research-based curricula, instructional practices, and interventions designed to improve student achievement. RTI is designed for use when making decisions in both general and special education, creating a well-integrated system of instruction and intervention guided by student outcome data.\\n', \"The School Building Level Committee (SBLC) goes by several different names, but all have the same function.  Some districts call it the Student Assessment Team, Academic Behavior Intervention Team and other names.  This group is a general education, data driven, decision-making committee whose standing members consist of at least the principal/designee, a classroom teacher, and the referring teacher. In discussing an individual student's difficulties, the student's parent or guardian is an invited participant. The SBLC shall review and analyze all screening data, including RTI results, to determine the most beneficial option for the student.\\n\", 'No, The Office of Special Education Programs under the U.S. Department of Education made it clear a school district cannot delay or deny the evaluation process due to RTI.\\n', 'The school district is required to review all pertinent reports supplied by the parent or an outside agency during the evaluation process.  Normally, these private evaluations don’t meet the requirements of 1508 and therefore the district will conduct their own evaluation.\\n', 'Yes, if you suspect your child is a child is a disability, the public school system is obligated to evaluate your child under Bulletin 1508 guidelines, at no cost to the parent or private school your child is attending.\\n', 'Bulletin 1508 is the regulatory guide for pupil appraisal personnel when conducting individual evaluations of students suspected of being exceptional and in need of special education and related services, and as a reference for persons requiring specific information regarding the determination of eligibility for special education services\\n', 'The exceptionalities are Autism, Deaf-Blindness, Developmental Delay, Emotional Disturbance, Hearing Impairment, Intellectual Disability, Multiple Disabilities,  Orthopedic Impairment, Other Health Impaired, Specific Learning Disability, Speech or Language Impairment, Traumatic Brain Injury, Visual Impairment.\\n', 'The initial evaluation must be conducted within 60 business days of receiving parental consent.\\n', \"If the LEA begins an evaluation and there are fewer than 60 business days remaining in the LEA's current school year, the LEA may take this type of extension with parent permission. However, the number of days used between the parental signature and June 1 will be subtracted from the 60 business days, and the timelines will begin again on September 1. If the LEA is making sufficient progress to ensure a prompt completion of the evaluation but needs extended time to assess the student in all areas of the suspected exceptionality, the parent and the LEA may agree to a specific time when the evaluation will be completed.  Extensions are not allowed during expedited evaluations for students subject to disciplinary measures as referenced in n §534 of Bulletin 1706.\\n\", 'The parents of a student with a disability or an exceptionality have a right to obtain an independent educational evaluation (IEE) of the student as described in Chapter 5 of Bulletin 1706.\\n', 'The local education agency (LEA) also referred to as the school district has a maximum of 30 calendar days to complete the IEP/placement document for an eligible student.\\n', 'Yes, a written notice must be provided to the parents of the child.  The notice must be provided in the parents’ native language or shall be given using other means of communication, whenever necessary, to ensure parental understanding.\\n', \"The notice shall indicate the purpose, time, and location of the IEP Team meeting; who will be in attendance; when a LEA IEP Team member needs to be excused from attending the meeting; the parents' right to take other participants to the meeting; the student's right to participate (when appropriate); and the name of the person in the LEA the parents can contact when they have questions or concerns.\\n\", \"At any IEP Team meeting, the following participants shall be in attendance: an officially designated representative of the Local Education Agency (LEA), the student's regular education and special education teachers, the student's parents, and a person knowledgeable about the student's evaluation procedures and results. The student, as well as other individuals the parents and/or LEA may deem necessary, should be given the opportunity to attend. Documentation of attendance is required.\\n\", \"Yes, parents are equal participants in the IEP process in discussing the educational and related services needs of the student and in deciding which placement and other services are appropriate. As such, one or both of the student's parents should participate in the initial IEP/placement meeting(s). Other team members shall rely on parents to contribute their perspective of the student outside of school. Parental insight about the student's strengths and support needs, learning style, temperament, ability to work in various environments, and acquired adaptive skills is of vital importance to the team in making decisions about the student's needs and services. The concerns of the parents for enhancing the education of their child shall be documented in the IEP.\\n\", \"Parent is defined as a biological or adoptive parent of a child; a foster parent; a guardian, generally authorized to act as the child's parent or authorized to make educational decisions for the child, but not the state if the child is a ward of the state; an individual acting in the place of a biological or adoptive parent of a child (including a grandparent, stepparent, or other relative) with whom the child lives or an individual who is legally responsible for the child's welfare; or a surrogate parent who has been appointed to act in the child's behalf.\\n\", 'The Local Education Agency (LEA) shall take measures to ensure that parents and all other team members, including sensorially impaired and non-English-speaking participants, can understand and actively participate in discussions and decision-making. These measures (i.e., having an interpreter or translator) should be documented. LEAs shall further ensure that, for those parents who cannot physically attend the IEP Team meetings, every effort is made to secure parental participation.\\n', 'The student should be given the opportunity to participate in the development of the IEP. In many cases, the student will share responsibility for goals and objectives.\\n', \"A member of the IEP Team is not required to attend an IEP Team meeting, in whole or in part, when the parent of the student with an exceptionality and the public agency agree, in writing, that the attendance of the member is not necessary because the member's area of the curriculum or related services is not being modified or discussed in the meeting.\\n\", \"Nowhere in the regulations address a time limit on IEP meetings.  The law doesn’t provide any guidance on the minimum or maximum amount of minutes to meet.  But the meeting should be long enough to provide the team enough time to plan a unique and appropriate IEP for your child.  If for some reason you feel rushed, you can always ask to reconvene the meeting at another time.  If the members of the team start the meeting stating they have a limited amount of time, let them know you are happy to go as far as they can, but will reconvene if it isn't done or feel like it’s being rushed.  An initial IEP meeting could last as long as a few hours, depending on the needs of the child. Unfortunately, some schools will try to schedule a lot of IEP's on certain days and block out specific short time frames.  This is completely inappropriate for an initial IEP meeting or any annual IEP meetings.  There is no way you can adequately go over the necessary IEP items in a predetermined minimum period.  As a rule of thumb, plan on an hour at a minimum.\\n\", \"The student's IEP is accessible to each regular education teacher, special education teacher, related services provider, and any other service provider who is responsible for its implementation. Each teacher and provider is informed of his or her specific responsibilities related to implementing the student's IEP; and the specific accommodations, modifications, and supports that shall be provided for the student in accordance with the IEP.\\n\", 'Yes, there are three types of IEPs for Students with exceptionalities. The Initial IEP is developed for a student with an exceptionality who has met criteria for one or more exceptionalities outlined in Bulletin 1508, Pupil Appraisal Handbook and who has never received special educational services, except through an interim IEP, from an approved Louisiana school/program.  The Review IEP is reviewed and revised at least annually or more frequently to consider the appropriateness of the program, placement, progress in the general education curriculum and any related services needed by the student. The Interim IEP shall be developed for students who have severe or low incidence impairments documented by a qualified professional concurrent with the conduct of an initial evaluation according to Bulletin 1508, Pupil Appraisal Handbook.\\n', \"In making changes to a student's IEP after the annual IEP Team meeting for a school year, the parent of a student with a disability and the public agency may agree not to convene an IEP Team meeting for the purposes of making those changes, and instead may amend or modify the student's current IEP.\\n\", 'The term placement refers to the setting or class in which the student will receive special educational services.\\n', \"The IEP Team, following a discussion of the student's educational needs, shall choose a setting in which the educational needs will be addressed. The official designated representative shall be knowledgeable about placement considerations and shall be responsible for informing the IEP Team members. The IEP Team, including the parent, shall participate in discussions and decisions made about the placement.\\n\", 'In most cases yes.  Although, throughout Louisiana most students with exceptionalities are served in their neighborhood schools there are some extenuating circumstances that influence the decision to serve a student in a school other than his or her neighborhood school.  However, when the site at which the student will receive services is not determined at the IEP Team meeting, within 10 calendar days, the site determination form shall be completed.\\n', 'The LEA shall obtain formal parental consent before it can initially provide a student with special education and related services in any setting.  A student consent is needed once the student reaches the age of majority, which is age eighteen in Louisiana, unless the student has been determined to be incompetent under state law.\\n', \"Parents may disagree with all or some parts of the program, placement, or related services proposals. The LEA and the parents should make conciliatory attempts to resolve the disputes, including making modifications to the proposed program, placement, and related services. A LEA may not use a parent's refusal to consent to one service or activity to deny the parent or student any other service, benefit, or activity of the LEA.\\n\", 'IDEA nor Bulletin 1706 recognize inclusion, but they do recognize Least Restrictive Environment (LRE).  Each public agency shall ensure that: a. To the maximum extent appropriate, students with disabilities, including students in public or private institutions or other care facilities, are educated with students who are nondisabled; and b. Special classes, separate schooling, or other removal of students with disabilities from the regular educational environment occurs only if the nature or severity of the disability is such that education in regular classes with the use of supplementary aids and services cannot be achieved satisfactorily.\\n', 'Unless specifically permitted by the State Board of Elementary and Secondary Education, there shall not be a chronological age span of more than three years within a special education class.\\n', \"An LEA is required to initiate and conduct IEP Team meetings periodically, but not less than annually, to review each student's IEP in order to determine whether the annual goals for the student are being achieved and to revise the IEP as appropriate. The LEA shall notify parents of the review IEP Team meeting in accordance with the same procedures as the initial IEP.\\n\", \"Each public agency shall ensure that assistive technology devices or assistive technology services, or both, as those terms are defined in §905, are made available to a student with a disability if required as a part of the student's: 1.\\tspecial education under §905; 2.\\trelated services under §905; or 3.\\tsupplementary aids under §§905 and 114.A.2.b. On a case-by-case basis, the use of school-purchased assistive technology devices in a student's home or in other settings is required if the student's IEP team determines that the student needs access to those devices in order to receive FAPE.\\n\", 'The IEP Team will consider the criterion/criteria to make the ESY determination and what data must be collected to make that decision. The data collected through progress monitoring (e.g., grades, progress reports, behavior checklists, task analyses, teacher observation logs, etc.) shall be reviewed to determine the progress the student makes toward acquisition of the measurable annual goals and/or objectives/benchmarks, and whether the data supports that, the student meets any of the criteria for ESY eligibility.\\n', \"The LDE shall ensure the following. 1.\\tEach public agency shall take steps, including the provision of supplementary aids and services determined appropriate and necessary by the student's IEP Team, to provide nonacademic and extracurricular services and activities in the manner necessary to afford students with disabilities an equal opportunity for participation in those services and activities. 2.\\tNonacademic and extracurricular services and activities may include counseling services, athletics, transportation, health services, recreational activities, special interest groups or clubs sponsored by the public agency, referrals to agencies that provide assistance to individuals with disabilities, and employment of students, including both employment by the public agency and assistance in making outside employment available.\\n\", 'In Louisiana, qualifying children from birth through their 2nd birthday can receive early intervention services through Early Steps.  Federally, this is referred to as Part C Services under the Individuals with Disabilities Education Act (IDEA).  Qualifying students from 3 through 21 years of age can receive special education services until: a. The student receives a state diploma; or b. The student reaches his or her 22nd birthday. When the 22nd birthday occurs during the course of the regular school session, and all action steps in the transition plan have not been completed, the student should be allowed to remain in school for the remainder of the school year.\\n', 'No, the state shall ensure that FAPE is available to any individual student with a disability who needs special education and related services, even though the student has not failed or been retained in a course or grade, and is advancing from grade to grade.\\n', 'Unfortunately no.  IDEA requires that certain steps be taken when a child transitions out of Early Steps services at age 3.  It is required that the Part C Lead agency, which is Early Steps in Louisiana, notify the LEA for the area in which the child resides that the child will shortly reach the age of eligibility for preschool services.  Early Steps notifies the Louisiana Department of Education (LDOE) of any children ages 2 years and 2 months or above.  LDOE then sends the list of children to the appropriate LEA.  It is important that all options, including a referral to the local school for special education services, be considered and discussed with the family. A transition plan must be developed that identifies other appropriate options for the child and family including private preschool, Head Start, Early Head Start, the Office for Citizens with Developmental Disabilities/Human Service Authority (OCDD/HSA/D), child care, or other community early childhood programs.  Even though EarlySteps send a list to the DOE, the FSC is still responsible for notifying the LEA of the impending 3rd birthday, inviting the LEA to the transition conference, and sending the appropriate documentation that supports the transition notification to the LEA.\\n', 'Typically a medical diagnosis doesn’t include the required information for a school classification.   Unless your medical provider completed the required components of Bulletin 1508, they will need to meet the qualifications for Autism in Bulletin 1508.\\n', 'No, most children receiving special education or related services do not have intellectual delays.  Special education services are available for any child, ages 3 to 21 that meet the requirements of one of the exceptionalities in Bulletin 1508. \\n']\n"
     ]
    }
   ],
   "source": [
    "directory_path = \"../data\"\n",
    "text_files = glob.glob(f\"{directory_path}/*.txt\")\n",
    "titles = [Path(text_file).stem for text_file in text_files]\n",
    "text_files, titles\n",
    "print(questions)\n",
    "print(answers)"
   ]
  },
  {
   "cell_type": "code",
   "execution_count": 21,
   "metadata": {},
   "outputs": [
    {
     "ename": "ValueError",
     "evalue": "empty vocabulary; perhaps the documents only contain stop words",
     "output_type": "error",
     "traceback": [
      "\u001b[0;31m---------------------------------------------------------------------------\u001b[0m",
      "\u001b[0;31mValueError\u001b[0m                                Traceback (most recent call last)",
      "\u001b[0;32m<ipython-input-21-47aa2a774c1e>\u001b[0m in \u001b[0;36m<module>\u001b[0;34m\u001b[0m\n\u001b[1;32m      1\u001b[0m \u001b[0mtfidf_vectorizer\u001b[0m \u001b[0;34m=\u001b[0m \u001b[0mTfidfVectorizer\u001b[0m\u001b[0;34m(\u001b[0m\u001b[0minput\u001b[0m\u001b[0;34m=\u001b[0m\u001b[0;34m'filename'\u001b[0m\u001b[0;34m,\u001b[0m \u001b[0mstop_words\u001b[0m\u001b[0;34m=\u001b[0m\u001b[0;34m\"english\"\u001b[0m\u001b[0;34m)\u001b[0m\u001b[0;34m\u001b[0m\u001b[0;34m\u001b[0m\u001b[0m\n\u001b[0;32m----> 2\u001b[0;31m \u001b[0mtfidf_vector\u001b[0m \u001b[0;34m=\u001b[0m \u001b[0mtfidf_vectorizer\u001b[0m\u001b[0;34m.\u001b[0m\u001b[0mfit_transform\u001b[0m\u001b[0;34m(\u001b[0m\u001b[0mtext_files\u001b[0m\u001b[0;34m)\u001b[0m\u001b[0;34m\u001b[0m\u001b[0;34m\u001b[0m\u001b[0m\n\u001b[0m",
      "\u001b[0;32m/opt/anaconda3/lib/python3.8/site-packages/sklearn/feature_extraction/text.py\u001b[0m in \u001b[0;36mfit_transform\u001b[0;34m(self, raw_documents, y)\u001b[0m\n\u001b[1;32m   2067\u001b[0m         \"\"\"\n\u001b[1;32m   2068\u001b[0m         \u001b[0mself\u001b[0m\u001b[0;34m.\u001b[0m\u001b[0m_check_params\u001b[0m\u001b[0;34m(\u001b[0m\u001b[0;34m)\u001b[0m\u001b[0;34m\u001b[0m\u001b[0;34m\u001b[0m\u001b[0m\n\u001b[0;32m-> 2069\u001b[0;31m         \u001b[0mX\u001b[0m \u001b[0;34m=\u001b[0m \u001b[0msuper\u001b[0m\u001b[0;34m(\u001b[0m\u001b[0;34m)\u001b[0m\u001b[0;34m.\u001b[0m\u001b[0mfit_transform\u001b[0m\u001b[0;34m(\u001b[0m\u001b[0mraw_documents\u001b[0m\u001b[0;34m)\u001b[0m\u001b[0;34m\u001b[0m\u001b[0;34m\u001b[0m\u001b[0m\n\u001b[0m\u001b[1;32m   2070\u001b[0m         \u001b[0mself\u001b[0m\u001b[0;34m.\u001b[0m\u001b[0m_tfidf\u001b[0m\u001b[0;34m.\u001b[0m\u001b[0mfit\u001b[0m\u001b[0;34m(\u001b[0m\u001b[0mX\u001b[0m\u001b[0;34m)\u001b[0m\u001b[0;34m\u001b[0m\u001b[0;34m\u001b[0m\u001b[0m\n\u001b[1;32m   2071\u001b[0m         \u001b[0;31m# X is already a transformed view of raw_documents so\u001b[0m\u001b[0;34m\u001b[0m\u001b[0;34m\u001b[0m\u001b[0;34m\u001b[0m\u001b[0m\n",
      "\u001b[0;32m/opt/anaconda3/lib/python3.8/site-packages/sklearn/feature_extraction/text.py\u001b[0m in \u001b[0;36mfit_transform\u001b[0;34m(self, raw_documents, y)\u001b[0m\n\u001b[1;32m   1319\u001b[0m         \u001b[0mmax_features\u001b[0m \u001b[0;34m=\u001b[0m \u001b[0mself\u001b[0m\u001b[0;34m.\u001b[0m\u001b[0mmax_features\u001b[0m\u001b[0;34m\u001b[0m\u001b[0;34m\u001b[0m\u001b[0m\n\u001b[1;32m   1320\u001b[0m \u001b[0;34m\u001b[0m\u001b[0m\n\u001b[0;32m-> 1321\u001b[0;31m         \u001b[0mvocabulary\u001b[0m\u001b[0;34m,\u001b[0m \u001b[0mX\u001b[0m \u001b[0;34m=\u001b[0m \u001b[0mself\u001b[0m\u001b[0;34m.\u001b[0m\u001b[0m_count_vocab\u001b[0m\u001b[0;34m(\u001b[0m\u001b[0mraw_documents\u001b[0m\u001b[0;34m,\u001b[0m \u001b[0mself\u001b[0m\u001b[0;34m.\u001b[0m\u001b[0mfixed_vocabulary_\u001b[0m\u001b[0;34m)\u001b[0m\u001b[0;34m\u001b[0m\u001b[0;34m\u001b[0m\u001b[0m\n\u001b[0m\u001b[1;32m   1322\u001b[0m \u001b[0;34m\u001b[0m\u001b[0m\n\u001b[1;32m   1323\u001b[0m         \u001b[0;32mif\u001b[0m \u001b[0mself\u001b[0m\u001b[0;34m.\u001b[0m\u001b[0mbinary\u001b[0m\u001b[0;34m:\u001b[0m\u001b[0;34m\u001b[0m\u001b[0;34m\u001b[0m\u001b[0m\n",
      "\u001b[0;32m/opt/anaconda3/lib/python3.8/site-packages/sklearn/feature_extraction/text.py\u001b[0m in \u001b[0;36m_count_vocab\u001b[0;34m(self, raw_documents, fixed_vocab)\u001b[0m\n\u001b[1;32m   1237\u001b[0m             \u001b[0mvocabulary\u001b[0m \u001b[0;34m=\u001b[0m \u001b[0mdict\u001b[0m\u001b[0;34m(\u001b[0m\u001b[0mvocabulary\u001b[0m\u001b[0;34m)\u001b[0m\u001b[0;34m\u001b[0m\u001b[0;34m\u001b[0m\u001b[0m\n\u001b[1;32m   1238\u001b[0m             \u001b[0;32mif\u001b[0m \u001b[0;32mnot\u001b[0m \u001b[0mvocabulary\u001b[0m\u001b[0;34m:\u001b[0m\u001b[0;34m\u001b[0m\u001b[0;34m\u001b[0m\u001b[0m\n\u001b[0;32m-> 1239\u001b[0;31m                 raise ValueError(\n\u001b[0m\u001b[1;32m   1240\u001b[0m                     \u001b[0;34m\"empty vocabulary; perhaps the documents only contain stop words\"\u001b[0m\u001b[0;34m\u001b[0m\u001b[0;34m\u001b[0m\u001b[0m\n\u001b[1;32m   1241\u001b[0m                 )\n",
      "\u001b[0;31mValueError\u001b[0m: empty vocabulary; perhaps the documents only contain stop words"
     ]
    }
   ],
   "source": [
    "tfidf_vectorizer = TfidfVectorizer(input='filename', stop_words=\"english\")\n",
    "tfidf_vector = tfidf_vectorizer.fit_transform(text_files)"
   ]
  },
  {
   "cell_type": "code",
   "execution_count": null,
   "metadata": {},
   "outputs": [],
   "source": [
    "tfidf_df = pd.DataFrame(tfidf_vector.toarray(), index=titles, columns=tfidf_vectorizer.get_feature_names())\n",
    "tfidf_df.head()"
   ]
  },
  {
   "cell_type": "code",
   "execution_count": null,
   "metadata": {},
   "outputs": [],
   "source": [
    "tfidf_df.loc['doc_freq'] = (tfidf_df > 0).sum()\n",
    "df = tfidf_df.T.sort_values(by=['questions', 'answers'], ascending=False)\n",
    "df"
   ]
  },
  {
   "cell_type": "markdown",
   "metadata": {},
   "source": [
    "### Analysis\n",
    "Although TFIDF in this case is a good approach, it may not help us solve the problem of ranking questions with user's question in term of similarity. TFIDF will output the significance of a term based on all question/answer pairs. However, these pairs are independent and unrelated. Furthermore, a user's questiion and DB's question both have significant words but they are unrelated, so their similarity is incorrect."
   ]
  },
  {
   "cell_type": "markdown",
   "metadata": {},
   "source": [
    "### Tasks\n",
    "1. Form a list of 21 pairs (answer+question)\n",
    "2. Fit and transform TF-IDF vectorizer for these 21 pairs, then turn each pair(string) into a vector.\n",
    "3. For any new sentence (user's input), transform it into a vector of the same dimension.\n",
    "4. Use cosine similarity to rank user's input vs a list of defined questions"
   ]
  },
  {
   "cell_type": "code",
   "execution_count": null,
   "metadata": {},
   "outputs": [],
   "source": [
    "data = [answer + \" \" + question for question, answer in zip(questions, answers)]\n",
    "len(data), data[:1]"
   ]
  },
  {
   "cell_type": "code",
   "execution_count": null,
   "metadata": {},
   "outputs": [],
   "source": [
    "tfidf_vectorizer = TfidfVectorizer(input='content', stop_words=\"english\")\n",
    "tfidf_vector = tfidf_vectorizer.fit_transform(data)\n",
    "\n",
    "print(tfidf_vector.shape)\n",
    "tfidf_vector.toarray()"
   ]
  },
  {
   "cell_type": "code",
   "execution_count": null,
   "metadata": {
    "scrolled": false
   },
   "outputs": [],
   "source": [
    "def find_similarity_tfidf(questions_vector, user, vectorizer):\n",
    "    user_vector = vectorizer.transform([user]).toarray().flatten()\n",
    "\n",
    "    ranks = []\n",
    "    for idx in range(len(questions_vector)):\n",
    "        question_vector = questions_vector[idx, :].flatten()\n",
    "\n",
    "        # cosine formular\n",
    "        c = 1.0 - cosine(question_vector, user_vector)\n",
    "        ranks.append((idx, c))\n",
    "\n",
    "    sorted_ranks = sorted(ranks, key=lambda x: x[1], reverse=True)\n",
    "    return sorted_ranks\n",
    "\n",
    "ranks = find_similarity_tfidf(tfidf_vector.toarray(), \"Can you please tell me what IEP is?\", tfidf_vectorizer)\n",
    "answer(ranks, answers)"
   ]
  },
  {
   "cell_type": "markdown",
   "metadata": {},
   "source": [
    "## Third approach: sentence similarity with Spacy using pre-trained model"
   ]
  },
  {
   "cell_type": "code",
   "execution_count": null,
   "metadata": {
    "scrolled": true
   },
   "outputs": [],
   "source": [
    "!pip install spacy\n",
    "!python -m spacy download en_core_web_md"
   ]
  },
  {
   "cell_type": "code",
   "execution_count": null,
   "metadata": {},
   "outputs": [],
   "source": [
    "import spacy\n",
    "nlp = spacy.load(\"en_core_web_md\")"
   ]
  },
  {
   "cell_type": "code",
   "execution_count": null,
   "metadata": {},
   "outputs": [],
   "source": [
    "def find_similarity_spacy(questions, user, model):\n",
    "    user_doc = model(user)\n",
    "    \n",
    "    ranks = []\n",
    "    for idx, question in enumerate(questions):\n",
    "        question_doc = model(question)\n",
    "        similarity = user_doc.similarity(question_doc)\n",
    "        ranks.append((idx, similarity))\n",
    "    \n",
    "    sorted_ranks = sorted(ranks, key=lambda x: x[1], reverse=True)\n",
    "    return sorted_ranks\n",
    "\n",
    "ranks = find_similarity_spacy(questions, \"Can you please tell me what IEP is?\", nlp)\n",
    "answer(ranks, answers)"
   ]
  },
  {
   "cell_type": "markdown",
   "metadata": {},
   "source": [
    "## Fourth approach: sentence similarity with sentence transformers (the baseline is BERT model)\n",
    "\n",
    "Resources:\n",
    "1. https://github.com/UKPLab/sentence-transformers\n",
    "2. https://www.sbert.net/docs/usage/semantic_textual_similarity.html"
   ]
  },
  {
   "cell_type": "code",
   "execution_count": 27,
   "metadata": {
    "scrolled": true
   },
   "outputs": [
    {
     "name": "stdout",
     "output_type": "stream",
     "text": [
      "Collecting sentence-transformers\n",
      "  Downloading sentence-transformers-2.1.0.tar.gz (78 kB)\n",
      "\u001b[K     |████████████████████████████████| 78 kB 2.3 MB/s eta 0:00:01\n",
      "\u001b[?25hCollecting transformers<5.0.0,>=4.6.0\n",
      "  Downloading transformers-4.16.1-py3-none-any.whl (3.5 MB)\n",
      "\u001b[K     |████████████████████████████████| 3.5 MB 11.1 MB/s eta 0:00:01\n",
      "\u001b[?25hCollecting tokenizers>=0.10.3\n",
      "  Downloading tokenizers-0.11.4-cp38-cp38-macosx_10_11_x86_64.whl (3.7 MB)\n",
      "\u001b[K     |████████████████████████████████| 3.7 MB 45.1 MB/s eta 0:00:01\n",
      "\u001b[?25hRequirement already satisfied, skipping upgrade: tqdm in /opt/anaconda3/lib/python3.8/site-packages (from sentence-transformers) (4.47.0)\n",
      "Collecting torch>=1.6.0\n",
      "  Downloading torch-1.10.2-cp38-none-macosx_10_9_x86_64.whl (147.2 MB)\n",
      "\u001b[K     |████████████████████████████████| 147.2 MB 51 kB/s s eta 0:00:01    |██████████████▉                 | 68.4 MB 5.5 MB/s eta 0:00:15     |█████████████████▎              | 79.2 MB 5.5 MB/s eta 0:00:13\n",
      "\u001b[?25hCollecting torchvision\n",
      "  Downloading torchvision-0.11.3-cp38-cp38-macosx_10_9_x86_64.whl (1.2 MB)\n",
      "\u001b[K     |████████████████████████████████| 1.2 MB 40.1 MB/s eta 0:00:01\n",
      "\u001b[?25hRequirement already satisfied, skipping upgrade: numpy in /opt/anaconda3/lib/python3.8/site-packages (from sentence-transformers) (1.18.5)\n",
      "Requirement already satisfied, skipping upgrade: scikit-learn in /opt/anaconda3/lib/python3.8/site-packages (from sentence-transformers) (1.0)\n",
      "Requirement already satisfied, skipping upgrade: scipy in /opt/anaconda3/lib/python3.8/site-packages (from sentence-transformers) (1.5.0)\n",
      "Requirement already satisfied, skipping upgrade: nltk in /opt/anaconda3/lib/python3.8/site-packages (from sentence-transformers) (3.5)\n",
      "Collecting sentencepiece\n",
      "  Downloading sentencepiece-0.1.96-cp38-cp38-macosx_10_6_x86_64.whl (1.1 MB)\n",
      "\u001b[K     |████████████████████████████████| 1.1 MB 20.9 MB/s eta 0:00:01\n",
      "\u001b[?25hCollecting huggingface-hub\n",
      "  Downloading huggingface_hub-0.4.0-py3-none-any.whl (67 kB)\n",
      "\u001b[K     |████████████████████████████████| 67 kB 10.7 MB/s eta 0:00:01\n",
      "\u001b[?25hRequirement already satisfied, skipping upgrade: filelock in /opt/anaconda3/lib/python3.8/site-packages (from transformers<5.0.0,>=4.6.0->sentence-transformers) (3.0.12)\n",
      "Requirement already satisfied, skipping upgrade: regex!=2019.12.17 in /opt/anaconda3/lib/python3.8/site-packages (from transformers<5.0.0,>=4.6.0->sentence-transformers) (2020.6.8)\n",
      "Requirement already satisfied, skipping upgrade: packaging>=20.0 in /opt/anaconda3/lib/python3.8/site-packages (from transformers<5.0.0,>=4.6.0->sentence-transformers) (20.4)\n",
      "Collecting sacremoses\n",
      "  Downloading sacremoses-0.0.47-py2.py3-none-any.whl (895 kB)\n",
      "\u001b[K     |████████████████████████████████| 895 kB 6.8 MB/s eta 0:00:01     |██████████████████████▎         | 624 kB 6.8 MB/s eta 0:00:01\n",
      "\u001b[?25hRequirement already satisfied, skipping upgrade: pyyaml>=5.1 in /opt/anaconda3/lib/python3.8/site-packages (from transformers<5.0.0,>=4.6.0->sentence-transformers) (5.3.1)\n",
      "Requirement already satisfied, skipping upgrade: requests in /opt/anaconda3/lib/python3.8/site-packages (from transformers<5.0.0,>=4.6.0->sentence-transformers) (2.24.0)\n",
      "Requirement already satisfied, skipping upgrade: typing-extensions in /opt/anaconda3/lib/python3.8/site-packages (from torch>=1.6.0->sentence-transformers) (4.0.1)\n",
      "Requirement already satisfied, skipping upgrade: pillow!=8.3.0,>=5.3.0 in /opt/anaconda3/lib/python3.8/site-packages (from torchvision->sentence-transformers) (7.2.0)\n",
      "Requirement already satisfied, skipping upgrade: joblib>=0.11 in /opt/anaconda3/lib/python3.8/site-packages (from scikit-learn->sentence-transformers) (0.16.0)\n",
      "Requirement already satisfied, skipping upgrade: threadpoolctl>=2.0.0 in /opt/anaconda3/lib/python3.8/site-packages (from scikit-learn->sentence-transformers) (2.1.0)\n",
      "Requirement already satisfied, skipping upgrade: click in /opt/anaconda3/lib/python3.8/site-packages (from nltk->sentence-transformers) (7.1.2)\n",
      "Requirement already satisfied, skipping upgrade: six in /opt/anaconda3/lib/python3.8/site-packages (from packaging>=20.0->transformers<5.0.0,>=4.6.0->sentence-transformers) (1.15.0)\n",
      "Requirement already satisfied, skipping upgrade: pyparsing>=2.0.2 in /opt/anaconda3/lib/python3.8/site-packages (from packaging>=20.0->transformers<5.0.0,>=4.6.0->sentence-transformers) (2.4.7)\n",
      "Requirement already satisfied, skipping upgrade: chardet<4,>=3.0.2 in /opt/anaconda3/lib/python3.8/site-packages (from requests->transformers<5.0.0,>=4.6.0->sentence-transformers) (3.0.4)\n",
      "Requirement already satisfied, skipping upgrade: certifi>=2017.4.17 in /opt/anaconda3/lib/python3.8/site-packages (from requests->transformers<5.0.0,>=4.6.0->sentence-transformers) (2020.6.20)\n",
      "Requirement already satisfied, skipping upgrade: idna<3,>=2.5 in /opt/anaconda3/lib/python3.8/site-packages (from requests->transformers<5.0.0,>=4.6.0->sentence-transformers) (2.10)\n",
      "Requirement already satisfied, skipping upgrade: urllib3!=1.25.0,!=1.25.1,<1.26,>=1.21.1 in /opt/anaconda3/lib/python3.8/site-packages (from requests->transformers<5.0.0,>=4.6.0->sentence-transformers) (1.25.9)\n",
      "Building wheels for collected packages: sentence-transformers\n",
      "  Building wheel for sentence-transformers (setup.py) ... \u001b[?25ldone\n",
      "\u001b[?25h  Created wheel for sentence-transformers: filename=sentence_transformers-2.1.0-py3-none-any.whl size=120999 sha256=afb46ffbfeb360c14f3e35804d7be995f95cfa006b727b87d94735a04d187024\n",
      "  Stored in directory: /Users/gabedarley/Library/Caches/pip/wheels/52/19/88/6625593382e23a926740e6fcee0f2df0a0de25766094842a28\n",
      "Successfully built sentence-transformers\n",
      "\u001b[31mERROR: huggingface-hub 0.4.0 has requirement packaging>=20.9, but you'll have packaging 20.4 which is incompatible.\u001b[0m\n",
      "Installing collected packages: sacremoses, huggingface-hub, tokenizers, transformers, torch, torchvision, sentencepiece, sentence-transformers\n",
      "Successfully installed huggingface-hub-0.4.0 sacremoses-0.0.47 sentence-transformers-2.1.0 sentencepiece-0.1.96 tokenizers-0.11.4 torch-1.10.2 torchvision-0.11.3 transformers-4.16.1\n"
     ]
    }
   ],
   "source": [
    "!pip install -U sentence-transformers"
   ]
  },
  {
   "cell_type": "code",
   "execution_count": 28,
   "metadata": {},
   "outputs": [],
   "source": [
    "from scipy.spatial.distance import cosine"
   ]
  },
  {
   "cell_type": "code",
   "execution_count": 29,
   "metadata": {
    "scrolled": true
   },
   "outputs": [
    {
     "data": {
      "application/vnd.jupyter.widget-view+json": {
       "model_id": "838e0bffed4b42adaa137b0be31c72b7",
       "version_major": 2,
       "version_minor": 0
      },
      "text/plain": [
       "HBox(children=(FloatProgress(value=0.0, description='Downloading', max=690.0, style=ProgressStyle(description_…"
      ]
     },
     "metadata": {},
     "output_type": "display_data"
    },
    {
     "name": "stdout",
     "output_type": "stream",
     "text": [
      "\n"
     ]
    },
    {
     "data": {
      "application/vnd.jupyter.widget-view+json": {
       "model_id": "dc282ac1a2f345b7b9d0b7af6fda7e7d",
       "version_major": 2,
       "version_minor": 0
      },
      "text/plain": [
       "HBox(children=(FloatProgress(value=0.0, description='Downloading', max=3988.0, style=ProgressStyle(description…"
      ]
     },
     "metadata": {},
     "output_type": "display_data"
    },
    {
     "name": "stdout",
     "output_type": "stream",
     "text": [
      "\n"
     ]
    },
    {
     "data": {
      "application/vnd.jupyter.widget-view+json": {
       "model_id": "5d3fda94394c416a9ae7d0116ca2e376",
       "version_major": 2,
       "version_minor": 0
      },
      "text/plain": [
       "HBox(children=(FloatProgress(value=0.0, description='Downloading', max=550.0, style=ProgressStyle(description_…"
      ]
     },
     "metadata": {},
     "output_type": "display_data"
    },
    {
     "name": "stdout",
     "output_type": "stream",
     "text": [
      "\n"
     ]
    },
    {
     "data": {
      "application/vnd.jupyter.widget-view+json": {
       "model_id": "cdfbec3017914c1ca7b22824c99d0959",
       "version_major": 2,
       "version_minor": 0
      },
      "text/plain": [
       "HBox(children=(FloatProgress(value=0.0, description='Downloading', max=122.0, style=ProgressStyle(description_…"
      ]
     },
     "metadata": {},
     "output_type": "display_data"
    },
    {
     "name": "stdout",
     "output_type": "stream",
     "text": [
      "\n"
     ]
    },
    {
     "data": {
      "application/vnd.jupyter.widget-view+json": {
       "model_id": "1f23af554d8b44f0b5cd349b1a09261b",
       "version_major": 2,
       "version_minor": 0
      },
      "text/plain": [
       "HBox(children=(FloatProgress(value=0.0, description='Downloading', max=229.0, style=ProgressStyle(description_…"
      ]
     },
     "metadata": {},
     "output_type": "display_data"
    },
    {
     "name": "stdout",
     "output_type": "stream",
     "text": [
      "\n"
     ]
    },
    {
     "data": {
      "application/vnd.jupyter.widget-view+json": {
       "model_id": "565ae571723d4446a2690d8acbf12edc",
       "version_major": 2,
       "version_minor": 0
      },
      "text/plain": [
       "HBox(children=(FloatProgress(value=0.0, description='Downloading', max=265486777.0, style=ProgressStyle(descri…"
      ]
     },
     "metadata": {},
     "output_type": "display_data"
    },
    {
     "name": "stdout",
     "output_type": "stream",
     "text": [
      "\n"
     ]
    },
    {
     "data": {
      "application/vnd.jupyter.widget-view+json": {
       "model_id": "82207438aebd4abe98aa6fa1e96e0483",
       "version_major": 2,
       "version_minor": 0
      },
      "text/plain": [
       "HBox(children=(FloatProgress(value=0.0, description='Downloading', max=53.0, style=ProgressStyle(description_w…"
      ]
     },
     "metadata": {},
     "output_type": "display_data"
    },
    {
     "name": "stdout",
     "output_type": "stream",
     "text": [
      "\n"
     ]
    },
    {
     "data": {
      "application/vnd.jupyter.widget-view+json": {
       "model_id": "64ba7ed6877543929483b9c2e9226782",
       "version_major": 2,
       "version_minor": 0
      },
      "text/plain": [
       "HBox(children=(FloatProgress(value=0.0, description='Downloading', max=112.0, style=ProgressStyle(description_…"
      ]
     },
     "metadata": {},
     "output_type": "display_data"
    },
    {
     "name": "stdout",
     "output_type": "stream",
     "text": [
      "\n"
     ]
    },
    {
     "data": {
      "application/vnd.jupyter.widget-view+json": {
       "model_id": "6491e42946744712aea40f6a68f3b13d",
       "version_major": 2,
       "version_minor": 0
      },
      "text/plain": [
       "HBox(children=(FloatProgress(value=0.0, description='Downloading', max=466081.0, style=ProgressStyle(descripti…"
      ]
     },
     "metadata": {},
     "output_type": "display_data"
    },
    {
     "name": "stdout",
     "output_type": "stream",
     "text": [
      "\n"
     ]
    },
    {
     "data": {
      "application/vnd.jupyter.widget-view+json": {
       "model_id": "bdd1040c46554ee0ac4beeab34e1ee78",
       "version_major": 2,
       "version_minor": 0
      },
      "text/plain": [
       "HBox(children=(FloatProgress(value=0.0, description='Downloading', max=450.0, style=ProgressStyle(description_…"
      ]
     },
     "metadata": {},
     "output_type": "display_data"
    },
    {
     "name": "stdout",
     "output_type": "stream",
     "text": [
      "\n"
     ]
    },
    {
     "data": {
      "application/vnd.jupyter.widget-view+json": {
       "model_id": "07d8ad4d81a741b4a7c02def35bb9404",
       "version_major": 2,
       "version_minor": 0
      },
      "text/plain": [
       "HBox(children=(FloatProgress(value=0.0, description='Downloading', max=231508.0, style=ProgressStyle(descripti…"
      ]
     },
     "metadata": {},
     "output_type": "display_data"
    },
    {
     "name": "stdout",
     "output_type": "stream",
     "text": [
      "\n"
     ]
    },
    {
     "data": {
      "application/vnd.jupyter.widget-view+json": {
       "model_id": "84986d0d67024c6fb44f0853f8980162",
       "version_major": 2,
       "version_minor": 0
      },
      "text/plain": [
       "HBox(children=(FloatProgress(value=0.0, description='Downloading', max=190.0, style=ProgressStyle(description_…"
      ]
     },
     "metadata": {},
     "output_type": "display_data"
    },
    {
     "name": "stdout",
     "output_type": "stream",
     "text": [
      "\n"
     ]
    }
   ],
   "source": [
    "from sentence_transformers import SentenceTransformer\n",
    "model = SentenceTransformer('distilbert-base-nli-mean-tokens')"
   ]
  },
  {
   "cell_type": "code",
   "execution_count": 30,
   "metadata": {},
   "outputs": [],
   "source": [
    "def find_similarity_transformer(questions, user, model):\n",
    "    sentence_embeddings = model.encode(questions)\n",
    "    user_embedding = model.encode(user)\n",
    "\n",
    "    ranks = []\n",
    "    for idx, embedding in enumerate(sentence_embeddings):\n",
    "        c = 1.0 - cosine(user_embedding, embedding)\n",
    "        ranks.append((idx, c))\n",
    "        \n",
    "    return sorted(ranks, key=lambda x: x[1], reverse=True)"
   ]
  },
  {
   "cell_type": "code",
   "execution_count": 92,
   "metadata": {},
   "outputs": [
    {
     "name": "stdout",
     "output_type": "stream",
     "text": [
      "The first answer is In making changes to a student's IEP after the annual IEP Team meeting for a school year, the parent of a student with a disability and the public agency may agree not to convene an IEP Team meeting for the purposes of making those changes, and instead may amend or modify the student's current IEP.\n",
      "\n",
      "The second answer is Parents may disagree with all or some parts of the program, placement, or related services proposals. The LEA and the parents should make conciliatory attempts to resolve the disputes, including making modifications to the proposed program, placement, and related services. A LEA may not use a parent's refusal to consent to one service or activity to deny the parent or student any other service, benefit, or activity of the LEA.\n",
      "\n",
      "0.7735286951065063\n"
     ]
    }
   ],
   "source": [
    "user_question = \"What are the rules regarding missing an IEP meeting?\"\n",
    "ranks = find_similarity_transformer(questions, user_question, model)\n",
    "\n",
    "for i in range(len(ranks)):\n",
    "        if ranks[i][0] == 29:\n",
    "            correct_index = i\n",
    "\n",
    "answer(ranks, answers)\n",
    "print(ranks[correct_index][1])"
   ]
  },
  {
   "cell_type": "code",
   "execution_count": null,
   "metadata": {},
   "outputs": [],
   "source": []
  },
  {
   "cell_type": "code",
   "execution_count": null,
   "metadata": {},
   "outputs": [],
   "source": []
  }
 ],
 "metadata": {
  "kernelspec": {
   "display_name": "Python 3",
   "language": "python",
   "name": "python3"
  },
  "language_info": {
   "codemirror_mode": {
    "name": "ipython",
    "version": 3
   },
   "file_extension": ".py",
   "mimetype": "text/x-python",
   "name": "python",
   "nbconvert_exporter": "python",
   "pygments_lexer": "ipython3",
   "version": "3.8.3"
  }
 },
 "nbformat": 4,
 "nbformat_minor": 5
}
