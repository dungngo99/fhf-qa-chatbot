{
 "cells": [
  {
   "cell_type": "code",
   "execution_count": 3,
   "id": "b8b8c120",
   "metadata": {},
   "outputs": [],
   "source": [
    "import os\n",
    "import sqlite3\n",
    "from sqlite3 import Error"
   ]
  },
  {
   "cell_type": "code",
   "execution_count": 11,
   "id": "4e4f925f",
   "metadata": {},
   "outputs": [],
   "source": [
    "dbName = os.path.join(os.getcwd(), \"../data/qa.db\")\n",
    "\n",
    "def create_connection(db_file):\n",
    "    print(sqlite3.version)\n",
    "    conn = None\n",
    "    try:\n",
    "        conn = sqlite3.connect(db_file)\n",
    "        cursor = conn.cursor()\n",
    "        return conn, cursor\n",
    "    except Error as e:\n",
    "        print(e)"
   ]
  },
  {
   "cell_type": "code",
   "execution_count": 12,
   "id": "048b0a41",
   "metadata": {},
   "outputs": [
    {
     "name": "stdout",
     "output_type": "stream",
     "text": [
      "2.6.0\n"
     ]
    },
    {
     "data": {
      "text/plain": [
       "(<sqlite3.Connection at 0x7f85f2f50210>, <sqlite3.Cursor at 0x7f85f2f55030>)"
      ]
     },
     "execution_count": 12,
     "metadata": {},
     "output_type": "execute_result"
    }
   ],
   "source": [
    "conn, cursor = create_connection(dbName)\n",
    "conn, cursor"
   ]
  },
  {
   "cell_type": "code",
   "execution_count": 13,
   "id": "946fe845",
   "metadata": {},
   "outputs": [],
   "source": [
    "# Create a table to store question-answer pairs\n",
    "\n",
    "query = \"\"\"\n",
    "    CREATE TABLE IF NOT EXISTS qa (\n",
    "        qa_id INT PRIMARY KEY,\n",
    "        question TEXT NOT NULL,\n",
    "        answer TEXT NOT NULL\n",
    "    )\n",
    "\"\"\"\n",
    "\n",
    "cursor.execute(query)\n",
    "conn.commit()"
   ]
  },
  {
   "cell_type": "code",
   "execution_count": 15,
   "id": "9a456f42",
   "metadata": {
    "scrolled": true
   },
   "outputs": [
    {
     "data": {
      "text/plain": [
       "(['What is an IEP',\n",
       "  'What is an LEA',\n",
       "  'What is IDEA',\n",
       "  'What is FAPE?',\n",
       "  'What is LRE?',\n",
       "  'What is PBIS?',\n",
       "  'What is a BIP?',\n",
       "  'What is RTI?',\n",
       "  'Should I have my child evaluated for special education',\n",
       "  'Can the school district refuse to evaluate my child until he or she goes through the RTI process?',\n",
       "  'Can the school use my private evaluation to expedite the evaluation process?',\n",
       "  'Is the public school system required to evaluate my child that attends a private school for free?',\n",
       "  'What are the exceptionalities?',\n",
       "  'How long does it take to get my child evaluated?',\n",
       "  'What happens if the parent disagree with the evaluation?',\n",
       "  'If my child is eligible for special education services, how long will it take to start the services?',\n",
       "  'Will I receive a notice about the IEP meeting?',\n",
       "  'Does the school have to tell me who will be attending the meeting?',\n",
       "  'Who are the IEP team members?',\n",
       "  'Are parents equal IEP team members?',\n",
       "  'Who is considered a parent on the IEP team?'],\n",
       " ['IEP is an individualized Education Program that provides a written plan designed to meet the unique needs of the child with an exceptionality.',\n",
       "  'LEA is the local education agency, also referred to as the local school district.',\n",
       "  'IDEA is the Individuals with Disabilities Education Act, the Federal special education law that guarantees FAPE.',\n",
       "  'FAPE is Free Appropriate Public Education, the provision in IDEA to ensure states provide services to eligible students with disabilities. The FREE in FAPE means school services must be provided at public expense, under public supervision and direction, without charge.',\n",
       "  'LRE is least restrictive environment.  LRE is the foundation principle in IDEA that children with disabilities should be educated with their nondisabled peers, to the greatest extent possible.',\n",
       "  'Positive Behavioral Interventions and Supports is an evidence-based three-tier framework for improving and integrating all of the data, systems, and practicing affecting student outcomes every day.  It’s a way to support everyone – especially students with disabilities – to create the kinds of schools where all students are successful. PBIS isn’t a curriculum you purchase or something you learn during a one-day professional development training. It is a commitment to addressing student behavior through systems change. When it’s implemented well, students achieve improved social and academic outcomes, schools experience reduced exclusionary discipline practices, and school personnel feel more effective.(Center for Positive Behavior Interventions & Supports, a U.S. Department of Education funded Technical Assistance & Dissemination Center)',\n",
       "  'A BIP is a Behavior Intervention Plan.  Many students with disabilities – particularly those with emotional or behavioral disorders, have IEP’s that contain a BIP, which provide individualized procedures to prevent undesirable behaviors or to intervene when those behaviors occur.',\n",
       "  'The Response to Intervention (RTI) process is a three-tiered approach to providing services and interventions to struggling learners and/or students with challenging behaviors at increasing levels of intensity. Essential components of the process include three tiers of instruction and intervention, use of standard protocols and/or problem-solving methods, and an integrated data collection/assessment system to inform decisions at each tier of instruction/intervention. The process incorporates increasing intensities of instruction and/or intervention that are provided to students in direct proportion to their individual needs. Embedded in each tier is a set of unique support structures or activities that help teachers implement, with fidelity, research-based curricula, instructional practices, and interventions designed to improve student achievement. RTI is designed for use when making decisions in both general and special education, creating a well-integrated system of instruction and intervention guided by student outcome data.',\n",
       "  'If your child is between 3 and 21 and having academic, social, or behavioral problems, you may consider getting your child evaluated. In Louisiana, this is called a 1508 evaluation.  Many struggling learners first go through the School Building Level Committee (SBLC) and receive interventions (RTI) before they are referred for an evaluation.',\n",
       "  'No, The Office of Special Education Programs under the U.S. Department of Education made it clear a school district cannot delay or deny the evaluation process due to RTI.',\n",
       "  'The school district is required to review all pertinent reports supplied by the parent or an outside agency during the evaluation process.  Normally, these private evaluations don’t meet the requirements of 1508 and therefore the district will conduct their own evaluation.',\n",
       "  'Yes, if you suspect your child is a child is a disability, the public school system is obligated to evaluate your child under Bulletin 1508 guidelines, at no cost to the parent or private school your child is attending.',\n",
       "  'The exceptionalities are Autism, Deaf-Blindness, Developmental Delay, Emotional Disturbance, Hearing Impairment, Intellectual Disability, Multiple Disabilities,  Orthopedic Impairment, Other Health Impaired, Specific Learning Disability, Speech or Language Impairment, Traumatic Brain Injury, Visual Impairment',\n",
       "  'The initial evaluation must be conducted within 60 business days of receiving parental consent.',\n",
       "  'The parents of a student with a disability or an exceptionality have a right to obtain an independent educational evaluation (IEE) of the student as described in Chapter 5 of Bulletin 1706.',\n",
       "  'The local education agency (LEA) also referred to as the school district has a maximum of 30 calendar days to complete the IEP/placement document for an eligible student.',\n",
       "  'Yes, a written notice must be provided to the parents of the child.  The notice must be provided in the parents’ native language or shall be given using other means of communication, whenever necessary, to ensure parental understanding.',\n",
       "  \"The notice shall indicate the purpose, time, and location of the IEP Team meeting; who will be in attendance; when a LEA IEP Team member needs to be excused from attending the meeting; the parents\\\\' right to take other participants to the meeting; the student\\\\'s right to participate (when appropriate); and the name of the person in the LEA the parents can contact when they have questions or concerns.\",\n",
       "  \"At any IEP Team meeting, the following participants shall be in attendance: an officially designated representative of the Local Education Agency (LEA), the student\\\\'s regular education and special education teachers, the student\\\\'s parents, and a person knowledgeable about the student\\\\'s evaluation procedures and results. The student, as well as other individuals the parents and/or LEA may deem necessary, should be given the opportunity to attend. Documentation of attendance is required.\",\n",
       "  \"Yes, parents are equal participants in the IEP process in discussing the educational and related services needs of the student and in deciding which placement and other services are appropriate. As such, one or both of the student\\\\'s parents should participate in the initial IEP/placement meeting(s). Other team members shall rely on parents to contribute their perspective of the student outside of school. Parental insight about the student\\\\'s strengths and support needs, learning style, temperament, ability to work in various environments, and acquired adaptive skills is of vital importance to the team in making decisions about the student\\\\'s needs and services. The concerns of the parents for enhancing the education of their child shall be documented in the IEP.\",\n",
       "  \"Parent is defined as a biological or adoptive parent of a child; a foster parent; a guardian, generally authorized to act as the child\\\\'s parent or authorized to make educational decisions for the child, but not the state if the child is a ward of the state; an individual acting in the place of a biological or adoptive parent of a child (including a grandparent, stepparent, or other relative) with whom the child lives or an individual who is legally responsible for the child\\\\'s welfare; or a surrogate parent who has been appointed to act in the child\\\\'s behalf.\"])"
      ]
     },
     "execution_count": 15,
     "metadata": {},
     "output_type": "execute_result"
    }
   ],
   "source": [
    "# Read in questions.txt and answers.txt file\n",
    "questions, answers = [], []\n",
    "questions_path = os.path.join(os.getcwd(), \"../data/questions.txt\")\n",
    "answers_path = os.path.join(os.getcwd(), \"../data/answers.txt\")\n",
    "\n",
    "with open(questions_path, \"r\") as file:\n",
    "    t = [line.strip() for line in file.readlines()]\n",
    "    questions.extend(t)\n",
    "    \n",
    "with open(answers_path, \"r\") as file:\n",
    "    t = [line.strip() for line in file.readlines()]\n",
    "    answers.extend(t)\n",
    "    \n",
    "questions, answers"
   ]
  },
  {
   "cell_type": "code",
   "execution_count": 16,
   "id": "b45eb846",
   "metadata": {},
   "outputs": [],
   "source": [
    "# Move the question-answer pairs to the DB\n",
    "query = \"\"\"\n",
    "    INSERT INTO qa (qa_id, question, answer) VALUES (?, ?, ?)\n",
    "\"\"\"\n",
    "\n",
    "for idx, (ques, ans) in enumerate(zip(questions, answers)):\n",
    "    cursor.execute(query, (idx, ques, ans))\n",
    "\n",
    "conn.commit()"
   ]
  },
  {
   "cell_type": "code",
   "execution_count": 19,
   "id": "8b47ced0",
   "metadata": {
    "scrolled": true
   },
   "outputs": [
    {
     "name": "stdout",
     "output_type": "stream",
     "text": [
      "(0, 'What is an IEP', 'IEP is an individualized Education Program that provides a written plan designed to meet the unique needs of the child with an exceptionality.')\n",
      "(1, 'What is an LEA', 'LEA is the local education agency, also referred to as the local school district.')\n",
      "(2, 'What is IDEA', 'IDEA is the Individuals with Disabilities Education Act, the Federal special education law that guarantees FAPE.')\n",
      "(3, 'What is FAPE?', 'FAPE is Free Appropriate Public Education, the provision in IDEA to ensure states provide services to eligible students with disabilities. The FREE in FAPE means school services must be provided at public expense, under public supervision and direction, without charge.')\n",
      "(4, 'What is LRE?', 'LRE is least restrictive environment.  LRE is the foundation principle in IDEA that children with disabilities should be educated with their nondisabled peers, to the greatest extent possible.')\n",
      "(5, 'What is PBIS?', 'Positive Behavioral Interventions and Supports is an evidence-based three-tier framework for improving and integrating all of the data, systems, and practicing affecting student outcomes every day.  It’s a way to support everyone – especially students with disabilities – to create the kinds of schools where all students are successful. PBIS isn’t a curriculum you purchase or something you learn during a one-day professional development training. It is a commitment to addressing student behavior through systems change. When it’s implemented well, students achieve improved social and academic outcomes, schools experience reduced exclusionary discipline practices, and school personnel feel more effective.(Center for Positive Behavior Interventions & Supports, a U.S. Department of Education funded Technical Assistance & Dissemination Center)')\n",
      "(6, 'What is a BIP?', 'A BIP is a Behavior Intervention Plan.  Many students with disabilities – particularly those with emotional or behavioral disorders, have IEP’s that contain a BIP, which provide individualized procedures to prevent undesirable behaviors or to intervene when those behaviors occur.')\n",
      "(7, 'What is RTI?', 'The Response to Intervention (RTI) process is a three-tiered approach to providing services and interventions to struggling learners and/or students with challenging behaviors at increasing levels of intensity. Essential components of the process include three tiers of instruction and intervention, use of standard protocols and/or problem-solving methods, and an integrated data collection/assessment system to inform decisions at each tier of instruction/intervention. The process incorporates increasing intensities of instruction and/or intervention that are provided to students in direct proportion to their individual needs. Embedded in each tier is a set of unique support structures or activities that help teachers implement, with fidelity, research-based curricula, instructional practices, and interventions designed to improve student achievement. RTI is designed for use when making decisions in both general and special education, creating a well-integrated system of instruction and intervention guided by student outcome data.')\n",
      "(8, 'Should I have my child evaluated for special education', 'If your child is between 3 and 21 and having academic, social, or behavioral problems, you may consider getting your child evaluated. In Louisiana, this is called a 1508 evaluation.  Many struggling learners first go through the School Building Level Committee (SBLC) and receive interventions (RTI) before they are referred for an evaluation.')\n",
      "(9, 'Can the school district refuse to evaluate my child until he or she goes through the RTI process?', 'No, The Office of Special Education Programs under the U.S. Department of Education made it clear a school district cannot delay or deny the evaluation process due to RTI.')\n",
      "(10, 'Can the school use my private evaluation to expedite the evaluation process?', 'The school district is required to review all pertinent reports supplied by the parent or an outside agency during the evaluation process.  Normally, these private evaluations don’t meet the requirements of 1508 and therefore the district will conduct their own evaluation.')\n",
      "(11, 'Is the public school system required to evaluate my child that attends a private school for free?', 'Yes, if you suspect your child is a child is a disability, the public school system is obligated to evaluate your child under Bulletin 1508 guidelines, at no cost to the parent or private school your child is attending.')\n",
      "(12, 'What are the exceptionalities?', 'The exceptionalities are Autism, Deaf-Blindness, Developmental Delay, Emotional Disturbance, Hearing Impairment, Intellectual Disability, Multiple Disabilities,  Orthopedic Impairment, Other Health Impaired, Specific Learning Disability, Speech or Language Impairment, Traumatic Brain Injury, Visual Impairment')\n",
      "(13, 'How long does it take to get my child evaluated?', 'The initial evaluation must be conducted within 60 business days of receiving parental consent.')\n",
      "(14, 'What happens if the parent disagree with the evaluation?', 'The parents of a student with a disability or an exceptionality have a right to obtain an independent educational evaluation (IEE) of the student as described in Chapter 5 of Bulletin 1706.')\n",
      "(15, 'If my child is eligible for special education services, how long will it take to start the services?', 'The local education agency (LEA) also referred to as the school district has a maximum of 30 calendar days to complete the IEP/placement document for an eligible student.')\n",
      "(16, 'Will I receive a notice about the IEP meeting?', 'Yes, a written notice must be provided to the parents of the child.  The notice must be provided in the parents’ native language or shall be given using other means of communication, whenever necessary, to ensure parental understanding.')\n",
      "(17, 'Does the school have to tell me who will be attending the meeting?', \"The notice shall indicate the purpose, time, and location of the IEP Team meeting; who will be in attendance; when a LEA IEP Team member needs to be excused from attending the meeting; the parents\\\\' right to take other participants to the meeting; the student\\\\'s right to participate (when appropriate); and the name of the person in the LEA the parents can contact when they have questions or concerns.\")\n",
      "(18, 'Who are the IEP team members?', \"At any IEP Team meeting, the following participants shall be in attendance: an officially designated representative of the Local Education Agency (LEA), the student\\\\'s regular education and special education teachers, the student\\\\'s parents, and a person knowledgeable about the student\\\\'s evaluation procedures and results. The student, as well as other individuals the parents and/or LEA may deem necessary, should be given the opportunity to attend. Documentation of attendance is required.\")\n",
      "(19, 'Are parents equal IEP team members?', \"Yes, parents are equal participants in the IEP process in discussing the educational and related services needs of the student and in deciding which placement and other services are appropriate. As such, one or both of the student\\\\'s parents should participate in the initial IEP/placement meeting(s). Other team members shall rely on parents to contribute their perspective of the student outside of school. Parental insight about the student\\\\'s strengths and support needs, learning style, temperament, ability to work in various environments, and acquired adaptive skills is of vital importance to the team in making decisions about the student\\\\'s needs and services. The concerns of the parents for enhancing the education of their child shall be documented in the IEP.\")\n",
      "(20, 'Who is considered a parent on the IEP team?', \"Parent is defined as a biological or adoptive parent of a child; a foster parent; a guardian, generally authorized to act as the child\\\\'s parent or authorized to make educational decisions for the child, but not the state if the child is a ward of the state; an individual acting in the place of a biological or adoptive parent of a child (including a grandparent, stepparent, or other relative) with whom the child lives or an individual who is legally responsible for the child\\\\'s welfare; or a surrogate parent who has been appointed to act in the child\\\\'s behalf.\")\n"
     ]
    }
   ],
   "source": [
    "# Check if our pairs are in the database or not\n",
    "query = \"\"\"\n",
    "    SELECT * FROM qa\n",
    "\"\"\"\n",
    "\n",
    "for row in cursor.execute(query):\n",
    "    print(row)"
   ]
  },
  {
   "cell_type": "code",
   "execution_count": null,
   "id": "bc3c928c",
   "metadata": {},
   "outputs": [],
   "source": []
  }
 ],
 "metadata": {
  "kernelspec": {
   "display_name": "Python 3",
   "language": "python",
   "name": "python3"
  },
  "language_info": {
   "codemirror_mode": {
    "name": "ipython",
    "version": 3
   },
   "file_extension": ".py",
   "mimetype": "text/x-python",
   "name": "python",
   "nbconvert_exporter": "python",
   "pygments_lexer": "ipython3",
   "version": "3.8.8"
  }
 },
 "nbformat": 4,
 "nbformat_minor": 5
}
